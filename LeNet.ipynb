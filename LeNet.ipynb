{
  "nbformat": 4,
  "nbformat_minor": 0,
  "metadata": {
    "colab": {
      "name": "LeNet.ipynb",
      "provenance": [],
      "collapsed_sections": [],
      "toc_visible": true,
      "mount_file_id": "132oAe6_Dy5me2lXLcGWW4YTROEiFOQUv",
      "authorship_tag": "ABX9TyPFaHXMVGEDafuypV3CkpOd",
      "include_colab_link": true
    },
    "kernelspec": {
      "name": "python3",
      "display_name": "Python 3"
    }
  },
  "cells": [
    {
      "cell_type": "markdown",
      "metadata": {
        "id": "view-in-github",
        "colab_type": "text"
      },
      "source": [
        "<a href=\"https://colab.research.google.com/github/AnantShankhdhar/tensorflow_implementations/blob/master/LeNet.ipynb\" target=\"_parent\"><img src=\"https://colab.research.google.com/assets/colab-badge.svg\" alt=\"Open In Colab\"/></a>"
      ]
    },
    {
      "cell_type": "code",
      "metadata": {
        "id": "V5RxGDmbs57o",
        "colab_type": "code",
        "colab": {
          "base_uri": "https://localhost:8080/",
          "height": 122
        },
        "outputId": "5acdd7d5-1032-4917-99fd-8ac9e0b8602c"
      },
      "source": [
        "from google.colab import drive\n",
        "drive.mount('/content/drive')"
      ],
      "execution_count": null,
      "outputs": [
        {
          "output_type": "stream",
          "text": [
            "Go to this URL in a browser: https://accounts.google.com/o/oauth2/auth?client_id=947318989803-6bn6qk8qdgf4n4g3pfee6491hc0brc4i.apps.googleusercontent.com&redirect_uri=urn%3aietf%3awg%3aoauth%3a2.0%3aoob&scope=email%20https%3a%2f%2fwww.googleapis.com%2fauth%2fdocs.test%20https%3a%2f%2fwww.googleapis.com%2fauth%2fdrive%20https%3a%2f%2fwww.googleapis.com%2fauth%2fdrive.photos.readonly%20https%3a%2f%2fwww.googleapis.com%2fauth%2fpeopleapi.readonly&response_type=code\n",
            "\n",
            "Enter your authorization code:\n",
            "··········\n",
            "Mounted at /content/drive\n"
          ],
          "name": "stdout"
        }
      ]
    },
    {
      "cell_type": "code",
      "metadata": {
        "id": "GFy9KtY1yxN3",
        "colab_type": "code",
        "colab": {}
      },
      "source": [
        "! mkdir '/content/drive/My Drive/machine_learning'"
      ],
      "execution_count": 10,
      "outputs": []
    },
    {
      "cell_type": "code",
      "metadata": {
        "id": "zl7GfvW_KvJJ",
        "colab_type": "code",
        "colab": {
          "base_uri": "https://localhost:8080/",
          "height": 85
        },
        "outputId": "c64a132f-99a9-451f-9bab-a6e612c6a1c4"
      },
      "source": [
        "!pip install pyyaml h5py\n",
        "import os\n",
        "import tensorflow as tf\n",
        "from tensorflow import keras\n",
        "import numpy as np\n",
        "import matplotlib.pyplot as plt\n",
        "import tensorflow_datasets as tfds\n",
        "from tensorflow.keras.layers import Conv2D,Dense,Flatten,Dropout,AveragePooling2D"
      ],
      "execution_count": 12,
      "outputs": [
        {
          "output_type": "stream",
          "text": [
            "Requirement already satisfied: pyyaml in /usr/local/lib/python3.6/dist-packages (3.13)\n",
            "Requirement already satisfied: h5py in /usr/local/lib/python3.6/dist-packages (2.10.0)\n",
            "Requirement already satisfied: six in /usr/local/lib/python3.6/dist-packages (from h5py) (1.15.0)\n",
            "Requirement already satisfied: numpy>=1.7 in /usr/local/lib/python3.6/dist-packages (from h5py) (1.18.5)\n"
          ],
          "name": "stdout"
        }
      ]
    },
    {
      "cell_type": "code",
      "metadata": {
        "id": "DH5UfubtMQ_h",
        "colab_type": "code",
        "colab": {
          "base_uri": "https://localhost:8080/",
          "height": 34
        },
        "outputId": "d4f72803-5ab4-4f2a-d1c4-7d62a4697ad6"
      },
      "source": [
        "train, test = tfds.as_numpy(tfds.load(\n",
        "    'mnist',\n",
        "    split=['train','test'], \n",
        "    batch_size=-1, \n",
        "    as_supervised=True,\n",
        "))\n",
        "x_train,y_train = train[0],train[1]\n",
        "x_test,y_test = test[0],test[1]\n",
        "print(x_train.shape,y_train.shape,x_test.shape,y_test.shape)"
      ],
      "execution_count": 13,
      "outputs": [
        {
          "output_type": "stream",
          "text": [
            "(60000, 28, 28, 1) (60000,) (10000, 28, 28, 1) (10000,)\n"
          ],
          "name": "stdout"
        }
      ]
    },
    {
      "cell_type": "code",
      "metadata": {
        "id": "R3eCCC4JUIY1",
        "colab_type": "code",
        "colab": {}
      },
      "source": [
        "model =  tf.keras.Sequential()"
      ],
      "execution_count": 14,
      "outputs": []
    },
    {
      "cell_type": "code",
      "metadata": {
        "id": "1uW5KcW9UbuO",
        "colab_type": "code",
        "colab": {}
      },
      "source": [
        "model.add(Conv2D(6,kernel_size=(5,5),strides=(1,1),input_shape=(28,28,1),activation=\"relu\",padding=\"same\"))\n",
        "model.add(AveragePooling2D(pool_size=(2,2),strides =(2,2),padding=\"valid\"))\n",
        "model.add(Conv2D(16,kernel_size=(5,5),activation=\"relu\"))\n",
        "model.add(AveragePooling2D(pool_size=(2,2),strides =(2,2),padding=\"valid\"))\n",
        "model.add(Flatten())\n",
        "model.add(Dense(120,activation=\"relu\"))\n",
        "model.add(Dense(84,activation=\"relu\"))\n",
        "model.add(Dense(10,activation=\"softmax\"))"
      ],
      "execution_count": 15,
      "outputs": []
    },
    {
      "cell_type": "code",
      "metadata": {
        "id": "FWctsjTfVd11",
        "colab_type": "code",
        "colab": {
          "base_uri": "https://localhost:8080/",
          "height": 425
        },
        "outputId": "f702ea97-c15b-4e53-fe85-64dbbf380041"
      },
      "source": [
        "model.summary()"
      ],
      "execution_count": 16,
      "outputs": [
        {
          "output_type": "stream",
          "text": [
            "Model: \"sequential_1\"\n",
            "_________________________________________________________________\n",
            "Layer (type)                 Output Shape              Param #   \n",
            "=================================================================\n",
            "conv2d_2 (Conv2D)            (None, 28, 28, 6)         156       \n",
            "_________________________________________________________________\n",
            "average_pooling2d_2 (Average (None, 14, 14, 6)         0         \n",
            "_________________________________________________________________\n",
            "conv2d_3 (Conv2D)            (None, 10, 10, 16)        2416      \n",
            "_________________________________________________________________\n",
            "average_pooling2d_3 (Average (None, 5, 5, 16)          0         \n",
            "_________________________________________________________________\n",
            "flatten_1 (Flatten)          (None, 400)               0         \n",
            "_________________________________________________________________\n",
            "dense_3 (Dense)              (None, 120)               48120     \n",
            "_________________________________________________________________\n",
            "dense_4 (Dense)              (None, 84)                10164     \n",
            "_________________________________________________________________\n",
            "dense_5 (Dense)              (None, 10)                850       \n",
            "=================================================================\n",
            "Total params: 61,706\n",
            "Trainable params: 61,706\n",
            "Non-trainable params: 0\n",
            "_________________________________________________________________\n"
          ],
          "name": "stdout"
        }
      ]
    },
    {
      "cell_type": "code",
      "metadata": {
        "id": "xAngEWOs9Hqs",
        "colab_type": "code",
        "colab": {}
      },
      "source": [
        "\n",
        "model.compile(loss=\"categorical_crossentropy\",optimizer=\"Adam\",metrics = [\"accuracy\"])"
      ],
      "execution_count": 17,
      "outputs": []
    },
    {
      "cell_type": "code",
      "metadata": {
        "id": "z-3r-YdG-naE",
        "colab_type": "code",
        "colab": {}
      },
      "source": [
        "x_train,x_test = x_train/255,x_test/255\n"
      ],
      "execution_count": 18,
      "outputs": []
    },
    {
      "cell_type": "code",
      "metadata": {
        "id": "KInsoQ-9RaLr",
        "colab_type": "code",
        "colab": {}
      },
      "source": [
        "y_train = tf.one_hot(y_train,10)"
      ],
      "execution_count": 19,
      "outputs": []
    },
    {
      "cell_type": "code",
      "metadata": {
        "id": "zmg6iS-fSF2f",
        "colab_type": "code",
        "colab": {}
      },
      "source": [
        "y_test = tf.one_hot(y_test,10)"
      ],
      "execution_count": 20,
      "outputs": []
    },
    {
      "cell_type": "code",
      "metadata": {
        "id": "LxTJ4SE9Yd5I",
        "colab_type": "code",
        "colab": {
          "base_uri": "https://localhost:8080/",
          "height": 1000
        },
        "outputId": "7a3fd495-e6ba-4f8a-e621-e7713cad31c6"
      },
      "source": [
        "checkpoint_path = \"/content/drive/My Drive/machine_learning/model.h5\"\n",
        "checkpoint_dir = os.path.dirname(checkpoint_path)\n",
        "\n",
        "cp_callback = tf.keras.callbacks.ModelCheckpoint(filepath=checkpoint_path,\n",
        "                                                 save_weights_only=True,\n",
        "                                                 verbose=1)\n",
        "\n",
        "model.fit(x_train,y_train,epochs=25,validation_data=(x_test,y_test),callbacks = [cp_callback])"
      ],
      "execution_count": 21,
      "outputs": [
        {
          "output_type": "stream",
          "text": [
            "Epoch 1/25\n",
            "1874/1875 [============================>.] - ETA: 0s - loss: 0.2045 - accuracy: 0.9379\n",
            "Epoch 00001: saving model to /content/drive/My Drive/machine_learning/model.h5\n",
            "1875/1875 [==============================] - 42s 22ms/step - loss: 0.2044 - accuracy: 0.9380 - val_loss: 0.0702 - val_accuracy: 0.9790\n",
            "Epoch 2/25\n",
            "1873/1875 [============================>.] - ETA: 0s - loss: 0.0664 - accuracy: 0.9801\n",
            "Epoch 00002: saving model to /content/drive/My Drive/machine_learning/model.h5\n",
            "1875/1875 [==============================] - 42s 22ms/step - loss: 0.0664 - accuracy: 0.9801 - val_loss: 0.0425 - val_accuracy: 0.9867\n",
            "Epoch 3/25\n",
            "1875/1875 [==============================] - ETA: 0s - loss: 0.0472 - accuracy: 0.9852\n",
            "Epoch 00003: saving model to /content/drive/My Drive/machine_learning/model.h5\n",
            "1875/1875 [==============================] - 42s 23ms/step - loss: 0.0472 - accuracy: 0.9852 - val_loss: 0.0388 - val_accuracy: 0.9880\n",
            "Epoch 4/25\n",
            "1875/1875 [==============================] - ETA: 0s - loss: 0.0373 - accuracy: 0.9883\n",
            "Epoch 00004: saving model to /content/drive/My Drive/machine_learning/model.h5\n",
            "1875/1875 [==============================] - 42s 22ms/step - loss: 0.0373 - accuracy: 0.9883 - val_loss: 0.0329 - val_accuracy: 0.9900\n",
            "Epoch 5/25\n",
            "1873/1875 [============================>.] - ETA: 0s - loss: 0.0314 - accuracy: 0.9906\n",
            "Epoch 00005: saving model to /content/drive/My Drive/machine_learning/model.h5\n",
            "1875/1875 [==============================] - 42s 22ms/step - loss: 0.0314 - accuracy: 0.9906 - val_loss: 0.0309 - val_accuracy: 0.9900\n",
            "Epoch 6/25\n",
            "1873/1875 [============================>.] - ETA: 0s - loss: 0.0246 - accuracy: 0.9924\n",
            "Epoch 00006: saving model to /content/drive/My Drive/machine_learning/model.h5\n",
            "1875/1875 [==============================] - 42s 22ms/step - loss: 0.0246 - accuracy: 0.9924 - val_loss: 0.0371 - val_accuracy: 0.9902\n",
            "Epoch 7/25\n",
            "1873/1875 [============================>.] - ETA: 0s - loss: 0.0207 - accuracy: 0.9936\n",
            "Epoch 00007: saving model to /content/drive/My Drive/machine_learning/model.h5\n",
            "1875/1875 [==============================] - 42s 22ms/step - loss: 0.0207 - accuracy: 0.9936 - val_loss: 0.0349 - val_accuracy: 0.9908\n",
            "Epoch 8/25\n",
            "1875/1875 [==============================] - ETA: 0s - loss: 0.0195 - accuracy: 0.9936\n",
            "Epoch 00008: saving model to /content/drive/My Drive/machine_learning/model.h5\n",
            "1875/1875 [==============================] - 42s 22ms/step - loss: 0.0195 - accuracy: 0.9936 - val_loss: 0.0394 - val_accuracy: 0.9889\n",
            "Epoch 9/25\n",
            "1874/1875 [============================>.] - ETA: 0s - loss: 0.0168 - accuracy: 0.9945\n",
            "Epoch 00009: saving model to /content/drive/My Drive/machine_learning/model.h5\n",
            "1875/1875 [==============================] - 42s 22ms/step - loss: 0.0169 - accuracy: 0.9945 - val_loss: 0.0394 - val_accuracy: 0.9879\n",
            "Epoch 10/25\n",
            "1874/1875 [============================>.] - ETA: 0s - loss: 0.0140 - accuracy: 0.9954\n",
            "Epoch 00010: saving model to /content/drive/My Drive/machine_learning/model.h5\n",
            "1875/1875 [==============================] - 42s 22ms/step - loss: 0.0140 - accuracy: 0.9954 - val_loss: 0.0328 - val_accuracy: 0.9904\n",
            "Epoch 11/25\n",
            "1875/1875 [==============================] - ETA: 0s - loss: 0.0126 - accuracy: 0.9959\n",
            "Epoch 00011: saving model to /content/drive/My Drive/machine_learning/model.h5\n",
            "1875/1875 [==============================] - 42s 22ms/step - loss: 0.0126 - accuracy: 0.9959 - val_loss: 0.0358 - val_accuracy: 0.9904\n",
            "Epoch 12/25\n",
            "1873/1875 [============================>.] - ETA: 0s - loss: 0.0119 - accuracy: 0.9961\n",
            "Epoch 00012: saving model to /content/drive/My Drive/machine_learning/model.h5\n",
            "1875/1875 [==============================] - 42s 22ms/step - loss: 0.0119 - accuracy: 0.9961 - val_loss: 0.0463 - val_accuracy: 0.9875\n",
            "Epoch 13/25\n",
            "1875/1875 [==============================] - ETA: 0s - loss: 0.0099 - accuracy: 0.9966\n",
            "Epoch 00013: saving model to /content/drive/My Drive/machine_learning/model.h5\n",
            "1875/1875 [==============================] - 42s 22ms/step - loss: 0.0099 - accuracy: 0.9966 - val_loss: 0.0456 - val_accuracy: 0.9897\n",
            "Epoch 14/25\n",
            "1875/1875 [==============================] - ETA: 0s - loss: 0.0102 - accuracy: 0.9968\n",
            "Epoch 00014: saving model to /content/drive/My Drive/machine_learning/model.h5\n",
            "1875/1875 [==============================] - 46s 25ms/step - loss: 0.0102 - accuracy: 0.9968 - val_loss: 0.0375 - val_accuracy: 0.9913\n",
            "Epoch 15/25\n",
            "1875/1875 [==============================] - ETA: 0s - loss: 0.0085 - accuracy: 0.9971\n",
            "Epoch 00015: saving model to /content/drive/My Drive/machine_learning/model.h5\n",
            "1875/1875 [==============================] - 42s 22ms/step - loss: 0.0085 - accuracy: 0.9971 - val_loss: 0.0429 - val_accuracy: 0.9904\n",
            "Epoch 16/25\n",
            "1874/1875 [============================>.] - ETA: 0s - loss: 0.0076 - accuracy: 0.9975\n",
            "Epoch 00016: saving model to /content/drive/My Drive/machine_learning/model.h5\n",
            "1875/1875 [==============================] - 42s 22ms/step - loss: 0.0076 - accuracy: 0.9975 - val_loss: 0.0366 - val_accuracy: 0.9926\n",
            "Epoch 17/25\n",
            "1875/1875 [==============================] - ETA: 0s - loss: 0.0079 - accuracy: 0.9974\n",
            "Epoch 00017: saving model to /content/drive/My Drive/machine_learning/model.h5\n",
            "1875/1875 [==============================] - 42s 22ms/step - loss: 0.0079 - accuracy: 0.9974 - val_loss: 0.0372 - val_accuracy: 0.9919\n",
            "Epoch 18/25\n",
            "1873/1875 [============================>.] - ETA: 0s - loss: 0.0076 - accuracy: 0.9976\n",
            "Epoch 00018: saving model to /content/drive/My Drive/machine_learning/model.h5\n",
            "1875/1875 [==============================] - 42s 23ms/step - loss: 0.0076 - accuracy: 0.9976 - val_loss: 0.0428 - val_accuracy: 0.9904\n",
            "Epoch 19/25\n",
            "1874/1875 [============================>.] - ETA: 0s - loss: 0.0075 - accuracy: 0.9976\n",
            "Epoch 00019: saving model to /content/drive/My Drive/machine_learning/model.h5\n",
            "1875/1875 [==============================] - 42s 22ms/step - loss: 0.0075 - accuracy: 0.9976 - val_loss: 0.0407 - val_accuracy: 0.9915\n",
            "Epoch 20/25\n",
            "1873/1875 [============================>.] - ETA: 0s - loss: 0.0063 - accuracy: 0.9979\n",
            "Epoch 00020: saving model to /content/drive/My Drive/machine_learning/model.h5\n",
            "1875/1875 [==============================] - 42s 22ms/step - loss: 0.0063 - accuracy: 0.9979 - val_loss: 0.0457 - val_accuracy: 0.9901\n",
            "Epoch 21/25\n",
            "1873/1875 [============================>.] - ETA: 0s - loss: 0.0056 - accuracy: 0.9981\n",
            "Epoch 00021: saving model to /content/drive/My Drive/machine_learning/model.h5\n",
            "1875/1875 [==============================] - 42s 22ms/step - loss: 0.0056 - accuracy: 0.9981 - val_loss: 0.0490 - val_accuracy: 0.9904\n",
            "Epoch 22/25\n",
            "1874/1875 [============================>.] - ETA: 0s - loss: 0.0062 - accuracy: 0.9980\n",
            "Epoch 00022: saving model to /content/drive/My Drive/machine_learning/model.h5\n",
            "1875/1875 [==============================] - 42s 22ms/step - loss: 0.0062 - accuracy: 0.9980 - val_loss: 0.0444 - val_accuracy: 0.9908\n",
            "Epoch 23/25\n",
            "1875/1875 [==============================] - ETA: 0s - loss: 0.0054 - accuracy: 0.9984\n",
            "Epoch 00023: saving model to /content/drive/My Drive/machine_learning/model.h5\n",
            "1875/1875 [==============================] - 42s 22ms/step - loss: 0.0054 - accuracy: 0.9984 - val_loss: 0.0504 - val_accuracy: 0.9901\n",
            "Epoch 24/25\n",
            "1874/1875 [============================>.] - ETA: 0s - loss: 0.0055 - accuracy: 0.9984\n",
            "Epoch 00024: saving model to /content/drive/My Drive/machine_learning/model.h5\n",
            "1875/1875 [==============================] - 42s 22ms/step - loss: 0.0055 - accuracy: 0.9984 - val_loss: 0.0565 - val_accuracy: 0.9901\n",
            "Epoch 25/25\n",
            "1875/1875 [==============================] - ETA: 0s - loss: 0.0051 - accuracy: 0.9984\n",
            "Epoch 00025: saving model to /content/drive/My Drive/machine_learning/model.h5\n",
            "1875/1875 [==============================] - 42s 22ms/step - loss: 0.0051 - accuracy: 0.9984 - val_loss: 0.0504 - val_accuracy: 0.9912\n"
          ],
          "name": "stdout"
        },
        {
          "output_type": "execute_result",
          "data": {
            "text/plain": [
              "<tensorflow.python.keras.callbacks.History at 0x7f599bd1e828>"
            ]
          },
          "metadata": {
            "tags": []
          },
          "execution_count": 21
        }
      ]
    },
    {
      "cell_type": "code",
      "metadata": {
        "id": "k9ceSglFc_Sx",
        "colab_type": "code",
        "colab": {}
      },
      "source": [
        ""
      ],
      "execution_count": null,
      "outputs": []
    }
  ]
}