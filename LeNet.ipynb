{
  "nbformat": 4,
  "nbformat_minor": 0,
  "metadata": {
    "colab": {
      "name": "LeNet.ipynb",
      "provenance": [],
      "collapsed_sections": [],
      "toc_visible": true,
      "authorship_tag": "ABX9TyML2o+EaxNHerPUnWL484xN",
      "include_colab_link": true
    },
    "kernelspec": {
      "name": "python3",
      "display_name": "Python 3"
    },
    "widgets": {
      "application/vnd.jupyter.widget-state+json": {
        "6047c63027944e478871a9c55f335f17": {
          "model_module": "@jupyter-widgets/controls",
          "model_name": "HBoxModel",
          "state": {
            "_view_name": "HBoxView",
            "_dom_classes": [],
            "_model_name": "HBoxModel",
            "_view_module": "@jupyter-widgets/controls",
            "_model_module_version": "1.5.0",
            "_view_count": null,
            "_view_module_version": "1.5.0",
            "box_style": "",
            "layout": "IPY_MODEL_d890c85a7c754b9ab50f45863217f9d8",
            "_model_module": "@jupyter-widgets/controls",
            "children": [
              "IPY_MODEL_7ded375d8d4c4c84b9c73cee5b03b676",
              "IPY_MODEL_41fa8460430d4eb7a8e63b7ef7507f10"
            ]
          }
        },
        "d890c85a7c754b9ab50f45863217f9d8": {
          "model_module": "@jupyter-widgets/base",
          "model_name": "LayoutModel",
          "state": {
            "_view_name": "LayoutView",
            "grid_template_rows": null,
            "right": null,
            "justify_content": null,
            "_view_module": "@jupyter-widgets/base",
            "overflow": null,
            "_model_module_version": "1.2.0",
            "_view_count": null,
            "flex_flow": null,
            "width": null,
            "min_width": null,
            "border": null,
            "align_items": null,
            "bottom": null,
            "_model_module": "@jupyter-widgets/base",
            "top": null,
            "grid_column": null,
            "overflow_y": null,
            "overflow_x": null,
            "grid_auto_flow": null,
            "grid_area": null,
            "grid_template_columns": null,
            "flex": null,
            "_model_name": "LayoutModel",
            "justify_items": null,
            "grid_row": null,
            "max_height": null,
            "align_content": null,
            "visibility": null,
            "align_self": null,
            "height": null,
            "min_height": null,
            "padding": null,
            "grid_auto_rows": null,
            "grid_gap": null,
            "max_width": null,
            "order": null,
            "_view_module_version": "1.2.0",
            "grid_template_areas": null,
            "object_position": null,
            "object_fit": null,
            "grid_auto_columns": null,
            "margin": null,
            "display": null,
            "left": null
          }
        },
        "7ded375d8d4c4c84b9c73cee5b03b676": {
          "model_module": "@jupyter-widgets/controls",
          "model_name": "FloatProgressModel",
          "state": {
            "_view_name": "ProgressView",
            "style": "IPY_MODEL_5806f048a8364caa8d7cae75317f810b",
            "_dom_classes": [],
            "description": "Dl Completed...: 100%",
            "_model_name": "FloatProgressModel",
            "bar_style": "success",
            "max": 4,
            "_view_module": "@jupyter-widgets/controls",
            "_model_module_version": "1.5.0",
            "value": 4,
            "_view_count": null,
            "_view_module_version": "1.5.0",
            "orientation": "horizontal",
            "min": 0,
            "description_tooltip": null,
            "_model_module": "@jupyter-widgets/controls",
            "layout": "IPY_MODEL_1895180d695d4f8683578cec2d1bc181"
          }
        },
        "41fa8460430d4eb7a8e63b7ef7507f10": {
          "model_module": "@jupyter-widgets/controls",
          "model_name": "HTMLModel",
          "state": {
            "_view_name": "HTMLView",
            "style": "IPY_MODEL_8af940342bd3469a99d1d4d9b90ebceb",
            "_dom_classes": [],
            "description": "",
            "_model_name": "HTMLModel",
            "placeholder": "​",
            "_view_module": "@jupyter-widgets/controls",
            "_model_module_version": "1.5.0",
            "value": " 4/4 [00:02&lt;00:00,  1.56 file/s]",
            "_view_count": null,
            "_view_module_version": "1.5.0",
            "description_tooltip": null,
            "_model_module": "@jupyter-widgets/controls",
            "layout": "IPY_MODEL_06cd726156da42cf85d5d27e5d5dab89"
          }
        },
        "5806f048a8364caa8d7cae75317f810b": {
          "model_module": "@jupyter-widgets/controls",
          "model_name": "ProgressStyleModel",
          "state": {
            "_view_name": "StyleView",
            "_model_name": "ProgressStyleModel",
            "description_width": "initial",
            "_view_module": "@jupyter-widgets/base",
            "_model_module_version": "1.5.0",
            "_view_count": null,
            "_view_module_version": "1.2.0",
            "bar_color": null,
            "_model_module": "@jupyter-widgets/controls"
          }
        },
        "1895180d695d4f8683578cec2d1bc181": {
          "model_module": "@jupyter-widgets/base",
          "model_name": "LayoutModel",
          "state": {
            "_view_name": "LayoutView",
            "grid_template_rows": null,
            "right": null,
            "justify_content": null,
            "_view_module": "@jupyter-widgets/base",
            "overflow": null,
            "_model_module_version": "1.2.0",
            "_view_count": null,
            "flex_flow": null,
            "width": null,
            "min_width": null,
            "border": null,
            "align_items": null,
            "bottom": null,
            "_model_module": "@jupyter-widgets/base",
            "top": null,
            "grid_column": null,
            "overflow_y": null,
            "overflow_x": null,
            "grid_auto_flow": null,
            "grid_area": null,
            "grid_template_columns": null,
            "flex": null,
            "_model_name": "LayoutModel",
            "justify_items": null,
            "grid_row": null,
            "max_height": null,
            "align_content": null,
            "visibility": null,
            "align_self": null,
            "height": null,
            "min_height": null,
            "padding": null,
            "grid_auto_rows": null,
            "grid_gap": null,
            "max_width": null,
            "order": null,
            "_view_module_version": "1.2.0",
            "grid_template_areas": null,
            "object_position": null,
            "object_fit": null,
            "grid_auto_columns": null,
            "margin": null,
            "display": null,
            "left": null
          }
        },
        "8af940342bd3469a99d1d4d9b90ebceb": {
          "model_module": "@jupyter-widgets/controls",
          "model_name": "DescriptionStyleModel",
          "state": {
            "_view_name": "StyleView",
            "_model_name": "DescriptionStyleModel",
            "description_width": "",
            "_view_module": "@jupyter-widgets/base",
            "_model_module_version": "1.5.0",
            "_view_count": null,
            "_view_module_version": "1.2.0",
            "_model_module": "@jupyter-widgets/controls"
          }
        },
        "06cd726156da42cf85d5d27e5d5dab89": {
          "model_module": "@jupyter-widgets/base",
          "model_name": "LayoutModel",
          "state": {
            "_view_name": "LayoutView",
            "grid_template_rows": null,
            "right": null,
            "justify_content": null,
            "_view_module": "@jupyter-widgets/base",
            "overflow": null,
            "_model_module_version": "1.2.0",
            "_view_count": null,
            "flex_flow": null,
            "width": null,
            "min_width": null,
            "border": null,
            "align_items": null,
            "bottom": null,
            "_model_module": "@jupyter-widgets/base",
            "top": null,
            "grid_column": null,
            "overflow_y": null,
            "overflow_x": null,
            "grid_auto_flow": null,
            "grid_area": null,
            "grid_template_columns": null,
            "flex": null,
            "_model_name": "LayoutModel",
            "justify_items": null,
            "grid_row": null,
            "max_height": null,
            "align_content": null,
            "visibility": null,
            "align_self": null,
            "height": null,
            "min_height": null,
            "padding": null,
            "grid_auto_rows": null,
            "grid_gap": null,
            "max_width": null,
            "order": null,
            "_view_module_version": "1.2.0",
            "grid_template_areas": null,
            "object_position": null,
            "object_fit": null,
            "grid_auto_columns": null,
            "margin": null,
            "display": null,
            "left": null
          }
        }
      }
    }
  },
  "cells": [
    {
      "cell_type": "markdown",
      "metadata": {
        "id": "view-in-github",
        "colab_type": "text"
      },
      "source": [
        "<a href=\"https://colab.research.google.com/github/AnantShankhdhar/tensorflow_implementations/blob/master/LeNet.ipynb\" target=\"_parent\"><img src=\"https://colab.research.google.com/assets/colab-badge.svg\" alt=\"Open In Colab\"/></a>"
      ]
    },
    {
      "cell_type": "code",
      "metadata": {
        "id": "V5RxGDmbs57o",
        "colab_type": "code",
        "colab": {
          "base_uri": "https://localhost:8080/",
          "height": 122
        },
        "outputId": "5acdd7d5-1032-4917-99fd-8ac9e0b8602c"
      },
      "source": [
        "from google.colab import drive\n",
        "drive.mount('/content/drive')"
      ],
      "execution_count": null,
      "outputs": [
        {
          "output_type": "stream",
          "text": [
            "Go to this URL in a browser: https://accounts.google.com/o/oauth2/auth?client_id=947318989803-6bn6qk8qdgf4n4g3pfee6491hc0brc4i.apps.googleusercontent.com&redirect_uri=urn%3aietf%3awg%3aoauth%3a2.0%3aoob&scope=email%20https%3a%2f%2fwww.googleapis.com%2fauth%2fdocs.test%20https%3a%2f%2fwww.googleapis.com%2fauth%2fdrive%20https%3a%2f%2fwww.googleapis.com%2fauth%2fdrive.photos.readonly%20https%3a%2f%2fwww.googleapis.com%2fauth%2fpeopleapi.readonly&response_type=code\n",
            "\n",
            "Enter your authorization code:\n",
            "··········\n",
            "Mounted at /content/drive\n"
          ],
          "name": "stdout"
        }
      ]
    },
    {
      "cell_type": "code",
      "metadata": {
        "id": "zl7GfvW_KvJJ",
        "colab_type": "code",
        "colab": {}
      },
      "source": [
        "!pip install pyyaml h5py\n",
        "import tensorflow as tf\n",
        "from tensorflow import keras\n",
        "import numpy as np\n",
        "import matplotlib.pyplot as plt\n",
        "import tensorflow_datasets as tfds\n",
        "from tensorflow.keras.layers import Conv2D,Dense,Flatten,Dropout,AveragePooling2D"
      ],
      "execution_count": null,
      "outputs": []
    },
    {
      "cell_type": "code",
      "metadata": {
        "id": "DH5UfubtMQ_h",
        "colab_type": "code",
        "colab": {
          "base_uri": "https://localhost:8080/",
          "height": 219,
          "referenced_widgets": [
            "6047c63027944e478871a9c55f335f17",
            "d890c85a7c754b9ab50f45863217f9d8",
            "7ded375d8d4c4c84b9c73cee5b03b676",
            "41fa8460430d4eb7a8e63b7ef7507f10",
            "5806f048a8364caa8d7cae75317f810b",
            "1895180d695d4f8683578cec2d1bc181",
            "8af940342bd3469a99d1d4d9b90ebceb",
            "06cd726156da42cf85d5d27e5d5dab89"
          ]
        },
        "outputId": "49869de4-e217-4a64-b383-885d7534555a"
      },
      "source": [
        "train, test = tfds.as_numpy(tfds.load(\n",
        "    'mnist',\n",
        "    split=['train','test'], \n",
        "    batch_size=-1, \n",
        "    as_supervised=True,\n",
        "))\n",
        "x_train,y_train = train[0],train[1]\n",
        "x_test,y_test = test[0],test[1]\n",
        "print(x_train.shape,y_train.shape,x_test.shape,y_test.shape)"
      ],
      "execution_count": null,
      "outputs": [
        {
          "output_type": "stream",
          "text": [
            "\u001b[1mDownloading and preparing dataset mnist/3.0.0 (download: 11.06 MiB, generated: Unknown size, total: 11.06 MiB) to /root/tensorflow_datasets/mnist/3.0.0...\u001b[0m\n"
          ],
          "name": "stdout"
        },
        {
          "output_type": "stream",
          "text": [
            "WARNING:absl:Dataset mnist is hosted on GCS. It will automatically be downloaded to your\n",
            "local data directory. If you'd instead prefer to read directly from our public\n",
            "GCS bucket (recommended if you're running on GCP), you can instead set\n",
            "data_dir=gs://tfds-data/datasets.\n",
            "\n"
          ],
          "name": "stderr"
        },
        {
          "output_type": "display_data",
          "data": {
            "application/vnd.jupyter.widget-view+json": {
              "model_id": "6047c63027944e478871a9c55f335f17",
              "version_minor": 0,
              "version_major": 2
            },
            "text/plain": [
              "HBox(children=(FloatProgress(value=0.0, description='Dl Completed...', max=4.0, style=ProgressStyle(descriptio…"
            ]
          },
          "metadata": {
            "tags": []
          }
        },
        {
          "output_type": "stream",
          "text": [
            "\n",
            "\n",
            "\u001b[1mDataset mnist downloaded and prepared to /root/tensorflow_datasets/mnist/3.0.0. Subsequent calls will reuse this data.\u001b[0m\n",
            "(60000, 28, 28, 1) (60000,) (10000, 28, 28, 1) (10000,)\n"
          ],
          "name": "stdout"
        }
      ]
    },
    {
      "cell_type": "code",
      "metadata": {
        "id": "R3eCCC4JUIY1",
        "colab_type": "code",
        "colab": {}
      },
      "source": [
        "model =  tf.keras.Sequential()"
      ],
      "execution_count": null,
      "outputs": []
    },
    {
      "cell_type": "code",
      "metadata": {
        "id": "1uW5KcW9UbuO",
        "colab_type": "code",
        "colab": {}
      },
      "source": [
        "model.add(Conv2D(6,kernel_size=(5,5),strides=(1,1),input_shape=(28,28,1),activation=\"relu\",padding=\"same\"))\n",
        "model.add(AveragePooling2D(pool_size=(2,2),strides =(2,2),padding=\"valid\"))\n",
        "model.add(Conv2D(16,kernel_size=(5,5),activation=\"relu\"))\n",
        "model.add(AveragePooling2D(pool_size=(2,2),strides =(2,2),padding=\"valid\"))\n",
        "model.add(Flatten())\n",
        "model.add(Dense(120,activation=\"relu\"))\n",
        "model.add(Dense(84,activation=\"relu\"))\n",
        "model.add(Dense(10,activation=\"softmax\"))"
      ],
      "execution_count": null,
      "outputs": []
    },
    {
      "cell_type": "code",
      "metadata": {
        "id": "FWctsjTfVd11",
        "colab_type": "code",
        "colab": {
          "base_uri": "https://localhost:8080/",
          "height": 425
        },
        "outputId": "8eb70b6b-3c50-493d-d560-0ba4f04c9938"
      },
      "source": [
        "model.summary()"
      ],
      "execution_count": null,
      "outputs": [
        {
          "output_type": "stream",
          "text": [
            "Model: \"sequential\"\n",
            "_________________________________________________________________\n",
            "Layer (type)                 Output Shape              Param #   \n",
            "=================================================================\n",
            "conv2d (Conv2D)              (None, 28, 28, 6)         156       \n",
            "_________________________________________________________________\n",
            "average_pooling2d (AveragePo (None, 14, 14, 6)         0         \n",
            "_________________________________________________________________\n",
            "conv2d_1 (Conv2D)            (None, 10, 10, 16)        2416      \n",
            "_________________________________________________________________\n",
            "average_pooling2d_1 (Average (None, 5, 5, 16)          0         \n",
            "_________________________________________________________________\n",
            "flatten (Flatten)            (None, 400)               0         \n",
            "_________________________________________________________________\n",
            "dense (Dense)                (None, 120)               48120     \n",
            "_________________________________________________________________\n",
            "dense_1 (Dense)              (None, 84)                10164     \n",
            "_________________________________________________________________\n",
            "dense_2 (Dense)              (None, 10)                850       \n",
            "=================================================================\n",
            "Total params: 61,706\n",
            "Trainable params: 61,706\n",
            "Non-trainable params: 0\n",
            "_________________________________________________________________\n"
          ],
          "name": "stdout"
        }
      ]
    },
    {
      "cell_type": "code",
      "metadata": {
        "id": "xAngEWOs9Hqs",
        "colab_type": "code",
        "colab": {}
      },
      "source": [
        "\n",
        "model.compile(loss=\"categorical_crossentropy\",optimizer=\"Adam\",metrics = [\"accuracy\"])"
      ],
      "execution_count": null,
      "outputs": []
    },
    {
      "cell_type": "code",
      "metadata": {
        "id": "z-3r-YdG-naE",
        "colab_type": "code",
        "colab": {}
      },
      "source": [
        "x_train,x_test = x_train/255,x_test/255\n"
      ],
      "execution_count": null,
      "outputs": []
    },
    {
      "cell_type": "code",
      "metadata": {
        "id": "KInsoQ-9RaLr",
        "colab_type": "code",
        "colab": {}
      },
      "source": [
        "y_train = tf.one_hot(y_train,10)"
      ],
      "execution_count": null,
      "outputs": []
    },
    {
      "cell_type": "code",
      "metadata": {
        "id": "zmg6iS-fSF2f",
        "colab_type": "code",
        "colab": {}
      },
      "source": [
        "y_test = tf.one_hot(y_test,10)"
      ],
      "execution_count": null,
      "outputs": []
    },
    {
      "cell_type": "code",
      "metadata": {
        "id": "LxTJ4SE9Yd5I",
        "colab_type": "code",
        "colab": {
          "base_uri": "https://localhost:8080/",
          "height": 874
        },
        "outputId": "c7f6c62e-71bf-4c45-9999-0947ed17c426"
      },
      "source": [
        "model.fit(x_train,y_train,epochs=25,validation_data=(x_test,y_test),verbose=1)"
      ],
      "execution_count": null,
      "outputs": [
        {
          "output_type": "stream",
          "text": [
            "Epoch 1/25\n",
            "1875/1875 [==============================] - 35s 19ms/step - loss: 0.2130 - accuracy: 0.9353 - val_loss: 0.0674 - val_accuracy: 0.9788\n",
            "Epoch 2/25\n",
            "1875/1875 [==============================] - 35s 19ms/step - loss: 0.0684 - accuracy: 0.9795 - val_loss: 0.0453 - val_accuracy: 0.9854\n",
            "Epoch 3/25\n",
            "1875/1875 [==============================] - 36s 19ms/step - loss: 0.0477 - accuracy: 0.9854 - val_loss: 0.0404 - val_accuracy: 0.9867\n",
            "Epoch 4/25\n",
            "1875/1875 [==============================] - 36s 19ms/step - loss: 0.0364 - accuracy: 0.9889 - val_loss: 0.0499 - val_accuracy: 0.9840\n",
            "Epoch 5/25\n",
            "1875/1875 [==============================] - 36s 19ms/step - loss: 0.0303 - accuracy: 0.9902 - val_loss: 0.0374 - val_accuracy: 0.9884\n",
            "Epoch 6/25\n",
            "1875/1875 [==============================] - 35s 19ms/step - loss: 0.0251 - accuracy: 0.9921 - val_loss: 0.0323 - val_accuracy: 0.9902\n",
            "Epoch 7/25\n",
            "1875/1875 [==============================] - 35s 19ms/step - loss: 0.0211 - accuracy: 0.9934 - val_loss: 0.0350 - val_accuracy: 0.9893\n",
            "Epoch 8/25\n",
            "1875/1875 [==============================] - 35s 19ms/step - loss: 0.0175 - accuracy: 0.9945 - val_loss: 0.0316 - val_accuracy: 0.9906\n",
            "Epoch 9/25\n",
            "1875/1875 [==============================] - 35s 19ms/step - loss: 0.0163 - accuracy: 0.9947 - val_loss: 0.0382 - val_accuracy: 0.9886\n",
            "Epoch 10/25\n",
            "1875/1875 [==============================] - 35s 19ms/step - loss: 0.0135 - accuracy: 0.9956 - val_loss: 0.0381 - val_accuracy: 0.9886\n",
            "Epoch 11/25\n",
            "1875/1875 [==============================] - 35s 19ms/step - loss: 0.0131 - accuracy: 0.9958 - val_loss: 0.0366 - val_accuracy: 0.9903\n",
            "Epoch 12/25\n",
            "1875/1875 [==============================] - 35s 19ms/step - loss: 0.0110 - accuracy: 0.9965 - val_loss: 0.0324 - val_accuracy: 0.9919\n",
            "Epoch 13/25\n",
            "1875/1875 [==============================] - 35s 19ms/step - loss: 0.0096 - accuracy: 0.9970 - val_loss: 0.0323 - val_accuracy: 0.9908\n",
            "Epoch 14/25\n",
            "1875/1875 [==============================] - 36s 19ms/step - loss: 0.0079 - accuracy: 0.9973 - val_loss: 0.0436 - val_accuracy: 0.9889\n",
            "Epoch 15/25\n",
            "1875/1875 [==============================] - 37s 20ms/step - loss: 0.0102 - accuracy: 0.9968 - val_loss: 0.0397 - val_accuracy: 0.9904\n",
            "Epoch 16/25\n",
            "1875/1875 [==============================] - 37s 20ms/step - loss: 0.0080 - accuracy: 0.9976 - val_loss: 0.0382 - val_accuracy: 0.9898\n",
            "Epoch 17/25\n",
            "1875/1875 [==============================] - 36s 19ms/step - loss: 0.0076 - accuracy: 0.9974 - val_loss: 0.0431 - val_accuracy: 0.9897\n",
            "Epoch 18/25\n",
            "1875/1875 [==============================] - 35s 19ms/step - loss: 0.0084 - accuracy: 0.9974 - val_loss: 0.0398 - val_accuracy: 0.9905\n",
            "Epoch 19/25\n",
            "1875/1875 [==============================] - 35s 19ms/step - loss: 0.0052 - accuracy: 0.9983 - val_loss: 0.0377 - val_accuracy: 0.9910\n",
            "Epoch 20/25\n",
            "1875/1875 [==============================] - 35s 19ms/step - loss: 0.0075 - accuracy: 0.9976 - val_loss: 0.0466 - val_accuracy: 0.9895\n",
            "Epoch 21/25\n",
            "1875/1875 [==============================] - 35s 19ms/step - loss: 0.0062 - accuracy: 0.9980 - val_loss: 0.0348 - val_accuracy: 0.9911\n",
            "Epoch 22/25\n",
            "1875/1875 [==============================] - 35s 19ms/step - loss: 0.0048 - accuracy: 0.9985 - val_loss: 0.0482 - val_accuracy: 0.9891\n",
            "Epoch 23/25\n",
            "1875/1875 [==============================] - 35s 19ms/step - loss: 0.0060 - accuracy: 0.9980 - val_loss: 0.0480 - val_accuracy: 0.9895\n",
            "Epoch 24/25\n",
            "1875/1875 [==============================] - 35s 19ms/step - loss: 0.0051 - accuracy: 0.9986 - val_loss: 0.0489 - val_accuracy: 0.9898\n",
            "Epoch 25/25\n",
            "1875/1875 [==============================] - 35s 19ms/step - loss: 0.0058 - accuracy: 0.9982 - val_loss: 0.0488 - val_accuracy: 0.9897\n"
          ],
          "name": "stdout"
        },
        {
          "output_type": "execute_result",
          "data": {
            "text/plain": [
              "<tensorflow.python.keras.callbacks.History at 0x7ff38ef8e6a0>"
            ]
          },
          "metadata": {
            "tags": []
          },
          "execution_count": 20
        }
      ]
    },
    {
      "cell_type": "code",
      "metadata": {
        "id": "k9ceSglFc_Sx",
        "colab_type": "code",
        "colab": {}
      },
      "source": [
        ""
      ],
      "execution_count": null,
      "outputs": []
    }
  ]
}